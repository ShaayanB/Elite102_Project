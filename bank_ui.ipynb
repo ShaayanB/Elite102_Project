{
 "cells": [
  {
   "cell_type": "code",
   "execution_count": 1,
   "metadata": {
    "hide_input": true
   },
   "outputs": [
    {
     "data": {
      "application/vnd.jupyter.widget-view+json": {
       "model_id": "4622e021396a43cda5bbfaede92761b4",
       "version_major": 2,
       "version_minor": 0
      },
      "text/plain": [
       "HTML(value='<h1 style=\"text-align:left;color:blue\">Shaayan B Bank</h1>')"
      ]
     },
     "metadata": {},
     "output_type": "display_data"
    },
    {
     "data": {
      "text/html": [
       "<style>.container { width:100% !important; }</style>"
      ],
      "text/plain": [
       "<IPython.core.display.HTML object>"
      ]
     },
     "metadata": {},
     "output_type": "display_data"
    },
    {
     "data": {
      "text/html": [
       "<style>div.output_scroll { height: 44em; }</style>"
      ],
      "text/plain": [
       "<IPython.core.display.HTML object>"
      ]
     },
     "metadata": {},
     "output_type": "display_data"
    }
   ],
   "source": [
    "import ipywidgets as widgets\n",
    "from IPython.display import display, HTML\n",
    "import time\n",
    "\n",
    "titl= widgets.HTML('<h1 style=\"text-align:left;color:blue\">Shaayan B Bank</h1>')\n",
    "display(titl)\n",
    "# #make window wider\n",
    "display(HTML(\"<style>.container { width:100% !important; }</style>\"))\n",
    "#make output box longer\n",
    "display(HTML(\"<style>div.output_scroll { height: 44em; }</style>\"))\n",
    "\n"
   ]
  },
  {
   "cell_type": "code",
   "execution_count": 2,
   "metadata": {
    "hide_input": true
   },
   "outputs": [
    {
     "data": {
      "application/vnd.jupyter.widget-view+json": {
       "model_id": "ff5746ecd6dc446f988f5bb064ea7f9b",
       "version_major": 2,
       "version_minor": 0
      },
      "text/plain": [
       "HTML(value='<h1 style=\"text-align:left;color:blue\">Create or Modify Account</h1>')"
      ]
     },
     "metadata": {},
     "output_type": "display_data"
    },
    {
     "data": {
      "application/vnd.jupyter.widget-view+json": {
       "model_id": "c96d5520cc894503aa23ce96e6a9b9aa",
       "version_major": 2,
       "version_minor": 0
      },
      "text/plain": [
       "HBox(children=(Text(value='', description='Name:'), FloatText(value=0.0, description='Pin:'), Button(descripti…"
      ]
     },
     "metadata": {},
     "output_type": "display_data"
    },
    {
     "data": {
      "application/vnd.jupyter.widget-view+json": {
       "model_id": "037a04db37ea41a0a8ec83304d9fc35f",
       "version_major": 2,
       "version_minor": 0
      },
      "text/plain": [
       "HBox(children=(Dropdown(description='Select Cust', options=('cust_71', 'Cust_110', 'cust_123', 'cust_33', 'cus…"
      ]
     },
     "metadata": {},
     "output_type": "display_data"
    },
    {
     "name": "stdout",
     "output_type": "stream",
     "text": [
      "Customer shaayanb_account was created\n"
     ]
    }
   ],
   "source": [
    "from database import Database\n",
    "titl= widgets.HTML('<h1 style=\"text-align:left;color:blue\">Create or Modify Account</h1>')\n",
    "display(titl)\n",
    "\n",
    "db = Database()\n",
    "db.open_connection()\n",
    "\n",
    "all_customer = db.get_all_accounts()\n",
    "\n",
    "def create_account(b):\n",
    "\n",
    "    #print(\"info \",name.value, int(pin_val.value))\n",
    "    if name.value == \"\":\n",
    "        print(f\"invalid customer name {name.value}\")\n",
    "    else:\n",
    "        db.create_account(name.value, int(pin_val.value))\n",
    "        print(f\"Customer {name.value} was created\")\n",
    "        #drop_down.options = db.get_all_accounts()\n",
    "    \n",
    "def modify_account(b):\n",
    "    db.modify_account(drop_down.value, int(new_pin.value))\n",
    "    print(f\"Customer {drop_down.value} pin was modified\")\n",
    "    \n",
    "    \n",
    "name = widgets.Text(\n",
    "    value=\"\",\n",
    "    description='Name:',\n",
    "    disabled=False\n",
    ")\n",
    "pin_val = widgets.FloatText(\n",
    "    value=0,\n",
    "    description='Pin:',\n",
    "    disabled=False\n",
    ")\n",
    "button1 = widgets.Button(description = \"Create Account\")\n",
    "button1.on_click(create_account)\n",
    "box1 = widgets.HBox([name,pin_val,button1])\n",
    "display(box1)\n",
    "\n",
    "new_pin = widgets.FloatText(\n",
    "    value=0,\n",
    "    description='New Pin:',\n",
    "    disabled=False\n",
    ")\n",
    "button2 = widgets.Button(description = \"Change PIN\")\n",
    "button2.on_click(modify_account)\n",
    "drop_down = widgets.Dropdown(options=all_customer, description = 'Select Cust')\n",
    "box2 = widgets.HBox([drop_down,new_pin,button2])\n",
    "\n",
    "display(box2)\n",
    "\n"
   ]
  },
  {
   "cell_type": "code",
   "execution_count": 3,
   "metadata": {
    "hide_input": true
   },
   "outputs": [
    {
     "data": {
      "application/vnd.jupyter.widget-view+json": {
       "model_id": "d7c182d620334d8db99d79e9e2bce728",
       "version_major": 2,
       "version_minor": 0
      },
      "text/plain": [
       "HTML(value='<h1 style=\"text-align:left;color:blue\">Bank ATM</h1>')"
      ]
     },
     "metadata": {},
     "output_type": "display_data"
    },
    {
     "data": {
      "application/vnd.jupyter.widget-view+json": {
       "model_id": "861ffbb84caf4cb984df2a09f138b860",
       "version_major": 2,
       "version_minor": 0
      },
      "text/plain": [
       "HBox(children=(Text(value='', description='Name:'), FloatText(value=0.0, description='Pin:'), Button(descripti…"
      ]
     },
     "metadata": {},
     "output_type": "display_data"
    },
    {
     "data": {
      "application/vnd.jupyter.widget-view+json": {
       "model_id": "7b49d068a6d841e9bf962d1d9bebb2b2",
       "version_major": 2,
       "version_minor": 0
      },
      "text/plain": [
       "HBox(children=(FloatText(value=0.0, description='Balance:', disabled=True), FloatText(value=0.0, description='…"
      ]
     },
     "metadata": {},
     "output_type": "display_data"
    }
   ],
   "source": [
    "titl= widgets.HTML('<h1 style=\"text-align:left;color:blue\">Bank ATM</h1>')\n",
    "display(titl)\n",
    "\n",
    "def login_customer(b):\n",
    "    if db.login_customer(name_text.value, int(pin.value)):\n",
    "        cust_balance = db.avilable_balance()\n",
    "        balance.value = cust_balance\n",
    "        print(f\"Customer {name_text.value} is logged in\")\n",
    "    else:\n",
    "        print(f\"Customer {name_text.value} name or pin is invalid\")\n",
    "\n",
    "def logout_customer(b):\n",
    "    db.logout_customer(name_text.value, int(pin.value))\n",
    "    print(f\"Customer {name_text.value} is logged in\")\n",
    "        \n",
    "def deposit(b):\n",
    "    db.deposit_money(amount.value)\n",
    "    balance.value = db.avilable_balance()\n",
    "\n",
    "def withdraw(b):\n",
    "    cust_balance = db.avilable_balance()\n",
    "    if cust_balance-amount.value< 0:\n",
    "        print(\"Error: Not enough money in account\")\n",
    "        return\n",
    "    db.deposit_money(0-amount.value)\n",
    "    cust_balance = db.avilable_balance()\n",
    "    balance.value = cust_balance\n",
    "\n",
    "\n",
    "name_text = widgets.Text(\n",
    "    value=\"\",\n",
    "    description='Name:',\n",
    "    disabled=False\n",
    ")\n",
    "pin = widgets.FloatText(\n",
    "    value=0,\n",
    "    description='Pin:',\n",
    "    disabled=False\n",
    ")\n",
    "\n",
    "button_login = widgets.Button(description = \"login\")\n",
    "button_login.on_click(login_customer)\n",
    "\n",
    "button_logout = widgets.Button(description = \"logout\")\n",
    "button_logout.on_click(logout_customer)\n",
    "\n",
    "box_1 = widgets.HBox([name_text,pin,button_login,button_logout])\n",
    "display(box_1)\n",
    "\n",
    "balance = widgets.FloatText(\n",
    "    value=0.0,\n",
    "    description='Balance:',\n",
    "    disabled=True\n",
    ")\n",
    "amount = widgets.FloatText(\n",
    "    value=0,\n",
    "    description='Amount:',\n",
    "    disabled=False\n",
    ")\n",
    "\n",
    "button_deposit = widgets.Button(description = \"Deposit Money\")\n",
    "button_deposit.on_click(deposit)\n",
    "button_withdrwal = widgets.Button(description = \"Get Money\")\n",
    "button_withdrwal.on_click(withdraw)\n",
    "\n",
    "box_2 = widgets.HBox([balance,amount,button_withdrwal,button_deposit])\n",
    "display(box_2)\n",
    "\n",
    "\n"
   ]
  },
  {
   "cell_type": "code",
   "execution_count": null,
   "metadata": {},
   "outputs": [],
   "source": []
  }
 ],
 "metadata": {
  "hide_input": false,
  "kernelspec": {
   "display_name": "Python 3 (ipykernel)",
   "language": "python",
   "name": "python3"
  },
  "language_info": {
   "codemirror_mode": {
    "name": "ipython",
    "version": 3
   },
   "file_extension": ".py",
   "mimetype": "text/x-python",
   "name": "python",
   "nbconvert_exporter": "python",
   "pygments_lexer": "ipython3",
   "version": "3.9.13"
  },
  "varInspector": {
   "cols": {
    "lenName": 16,
    "lenType": 16,
    "lenVar": 40
   },
   "kernels_config": {
    "python": {
     "delete_cmd_postfix": "",
     "delete_cmd_prefix": "del ",
     "library": "var_list.py",
     "varRefreshCmd": "print(var_dic_list())"
    },
    "r": {
     "delete_cmd_postfix": ") ",
     "delete_cmd_prefix": "rm(",
     "library": "var_list.r",
     "varRefreshCmd": "cat(var_dic_list()) "
    }
   },
   "types_to_exclude": [
    "module",
    "function",
    "builtin_function_or_method",
    "instance",
    "_Feature"
   ],
   "window_display": false
  }
 },
 "nbformat": 4,
 "nbformat_minor": 2
}
